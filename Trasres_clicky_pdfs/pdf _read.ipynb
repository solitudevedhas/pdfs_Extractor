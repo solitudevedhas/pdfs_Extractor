{
 "cells": [
  {
   "cell_type": "markdown",
   "metadata": {},
   "source": [
    "### Extracting all the text"
   ]
  },
  {
   "cell_type": "code",
   "execution_count": 6,
   "metadata": {},
   "outputs": [
    {
     "name": "stdout",
     "output_type": "stream",
     "text": [
      "www.trasers.com » Actions - 2019-08-22Visitor detailVisits:5Unique ID:2749500497IP address:67.188.228.0 - ARIN  RIPE Locale: Redwood City, California, USA / EnglishOrganization: Comcast Cable / comcast.netPlatform: Google Chrome 75.0    Mac OS X  1440x900  All time goals: Main Register Step 1 (Aug 22 2019) This visit First visitDate:Wed Aug 14 2019, 9:14amYou are currently viewing this person's ﬁrst visit.Session:10m 20s, 3 actionsLanding page: /blog/technologyReferrer: google.com [secure search] SearchesAug 14 20199:14:12 am /blog/technologyTechnology Transformation Blogs | TRASERSAug 14 20199:14:20 am /insightsMarket Research Industry Insights for EnterprisesAug 14 20199:14:32 am /insights/be-proactive-or-perish-the-transformation-tsunami-will-be-merciless-on-laggardsBe Proactive or Perish: The Transformation Tsunami Will Be Merciless on Laggards | Trasers\f",
      "\n"
     ]
    }
   ],
   "source": [
    "import io\n",
    " \n",
    "from pdfminer.converter import TextConverter\n",
    "from pdfminer.pdfinterp import PDFPageInterpreter\n",
    "from pdfminer.pdfinterp import PDFResourceManager\n",
    "from pdfminer.pdfpage import PDFPage\n",
    " \n",
    "def extract_text_from_pdf(pdf_path):\n",
    "    resource_manager = PDFResourceManager()\n",
    "    fake_file_handle = io.StringIO()\n",
    "    converter = TextConverter(resource_manager, fake_file_handle)\n",
    "    page_interpreter = PDFPageInterpreter(resource_manager, converter)\n",
    " \n",
    "    with open(pdf_path, 'rb') as fh:\n",
    "        for page in PDFPage.get_pages(fh, \n",
    "                                      caching=True,\n",
    "                                      check_extractable=True):\n",
    "            page_interpreter.process_page(page)\n",
    " \n",
    "        text = fake_file_handle.getvalue()\n",
    " \n",
    "    # close open handles\n",
    "    converter.close()\n",
    "    fake_file_handle.close()\n",
    " \n",
    "    if text:\n",
    "        return text\n",
    " \n",
    "if __name__ == '__main__':\n",
    "    print(extract_text_from_pdf('Data/www.trasers.com » Actions - 2019-08-22.pdf'))\n"
   ]
  },
  {
   "cell_type": "markdown",
   "metadata": {},
   "source": [
    "### Extracting text by page"
   ]
  },
  {
   "cell_type": "code",
   "execution_count": 5,
   "metadata": {},
   "outputs": [
    {
     "name": "stdout",
     "output_type": "stream",
     "text": [
      "www.trasers.com » Actions - 2019-08-22Visitor detailVisits:5Unique ID:2749500497IP address:67.188.228.0 - ARIN  RIPE Locale: Redwood City, California, USA / EnglishOrganization: Comcast Cable / comcast.netPlatform: Google Chrome 75.0    Mac OS X  1440x900  All time goals: Main Register Step 1 (Aug 22 2019) This visit First visitDate:Wed Aug 14 2019, 9:14amYou are currently viewing this person's ﬁrst visit.Session:10m 20s, 3 actionsLanding page: /blog/technologyReferrer: google.com [secure search] SearchesAug 14 20199:14:12 am /blog/technologyTechnology Transformation Blogs | TRASERSAug 14 20199:14:20 am /insightsMarket Research Industry Insights for EnterprisesAug 14 20199:14:32 am /insights/be-proactive-or-perish-the-transformation-tsunami-will-be-merciless-on-laggardsBe Proactive or Perish: The Transformation Tsunami Will Be Merciless on Laggards | Trasers\f",
      "\n",
      "\n",
      "None\n"
     ]
    }
   ],
   "source": [
    "# miner_text_generator.py\n",
    " \n",
    "import io\n",
    " \n",
    "from pdfminer.converter import TextConverter\n",
    "from pdfminer.pdfinterp import PDFPageInterpreter\n",
    "from pdfminer.pdfinterp import PDFResourceManager\n",
    "from pdfminer.pdfpage import PDFPage\n",
    " \n",
    "def extract_text_by_page(pdf_path):\n",
    "    with open(pdf_path, 'rb') as fh:\n",
    "        for page in PDFPage.get_pages(fh, \n",
    "                                      caching=True,\n",
    "                                      check_extractable=True):\n",
    "            resource_manager = PDFResourceManager()\n",
    "            fake_file_handle = io.StringIO()\n",
    "            converter = TextConverter(resource_manager, fake_file_handle)\n",
    "            page_interpreter = PDFPageInterpreter(resource_manager, converter)\n",
    "            page_interpreter.process_page(page)\n",
    " \n",
    "            text = fake_file_handle.getvalue()\n",
    "            yield text\n",
    " \n",
    "            # close open handles\n",
    "            converter.close()\n",
    "            fake_file_handle.close()\n",
    " \n",
    "def extract_text(pdf_path):\n",
    "    for page in extract_text_by_page(pdf_path):\n",
    "        print(page)\n",
    "        print()\n",
    " \n",
    "if __name__ == '__main__':\n",
    "    print(extract_text('Data/www.trasers.com » Actions - 2019-08-22.pdf'))"
   ]
  },
  {
   "cell_type": "code",
   "execution_count": null,
   "metadata": {},
   "outputs": [],
   "source": []
  }
 ],
 "metadata": {
  "kernelspec": {
   "display_name": "Python 3",
   "language": "python",
   "name": "python3"
  },
  "language_info": {
   "codemirror_mode": {
    "name": "ipython",
    "version": 3
   },
   "file_extension": ".py",
   "mimetype": "text/x-python",
   "name": "python",
   "nbconvert_exporter": "python",
   "pygments_lexer": "ipython3",
   "version": "3.6.8"
  }
 },
 "nbformat": 4,
 "nbformat_minor": 4
}
