{
 "cells": [
  {
   "cell_type": "code",
   "execution_count": 12,
   "metadata": {},
   "outputs": [],
   "source": [
    "import pdftables_api\n",
    "\n",
    "c = pdftables_api.Client('uhnjih41lquu')\n",
    "#c.xlsx('Data/www.trasers.com » Actions - 2019-08-22.pdf', 'output.xlsx') \n",
    "c.csv('Data/www.trasers.com » Actions - 2019-08-22.pdf', 'output.csv') \n",
    "#c.xml('Data/www.trasers.com » Actions - 2019-08-22.pdf', 'output.xml') \n",
    "#c.html('Data/www.trasers.com » Actions - 2019-08-22.pdf', 'output.html') \n",
    "#replace c.xlsx with c.csv to convert to CSV\n",
    "#replace c.xlsx with c.xml to convert to XML\n",
    "#replace c.xlsx with c.html to convert to HTML\n"
   ]
  },
  {
   "cell_type": "markdown",
   "metadata": {},
   "source": [
    "APIS key\n",
    "\n",
    "v3anr93vr0g8\n",
    "uhnjih41lquu"
   ]
  },
  {
   "cell_type": "code",
   "execution_count": null,
   "metadata": {},
   "outputs": [],
   "source": []
  }
 ],
 "metadata": {
  "kernelspec": {
   "display_name": "Python 3",
   "language": "python",
   "name": "python3"
  },
  "language_info": {
   "codemirror_mode": {
    "name": "ipython",
    "version": 3
   },
   "file_extension": ".py",
   "mimetype": "text/x-python",
   "name": "python",
   "nbconvert_exporter": "python",
   "pygments_lexer": "ipython3",
   "version": "3.6.8"
  }
 },
 "nbformat": 4,
 "nbformat_minor": 4
}
