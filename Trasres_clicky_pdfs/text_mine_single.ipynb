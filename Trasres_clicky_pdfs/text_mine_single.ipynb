{
 "cells": [
  {
   "cell_type": "code",
   "execution_count": 519,
   "metadata": {},
   "outputs": [],
   "source": [
    "import csv\n",
    "import glob\n",
    "import os\n",
    "import re\n",
    "import sys\n",
    "import pandas as pd\n",
    "from tika import parser\n",
    "input_path = sys.argv[1]\n",
    "import pandas as pd"
   ]
  },
  {
   "cell_type": "code",
   "execution_count": 263,
   "metadata": {},
   "outputs": [
    {
     "data": {
      "text/plain": [
       "'\\n\\n\\n\\n\\n\\n\\n\\n\\n\\n\\n\\n\\n\\n\\n\\n\\n\\n\\n\\n\\n\\n\\n\\n\\n\\n\\n\\n\\n\\n\\n\\n\\n\\n\\n\\n\\n\\nwww.trasers.com » Actions - 2019-09-10\\n\\nVisitor detail\\n\\nVisits: 4\\n\\nUnique ID: 1553879305\\n\\nIP address: 199.76.88.0 - ARIN  RIPE \\n\\nLocale:  USA / English\\n\\nOrganization:  Level 3 Communications\\n\\nPlatform:  Google Chrome 76.0 \\xa0  Windows 10 \\xa0\\n\\n1920x1080 \\xa0\\n\\nAll time goals:  Main Register Step 1 (Sep 10 2019)\\n\\n This visit  First visit\\n\\nDate: Tue Sep 10 2019, 10:28am Wed Sep 4 2019, 4:03pm (5d 18h)\\n\\nSession: 3m 24s, 29 actions 19m 56s, 8 actions\\n\\nLanding page:  /  /\\n\\nReferrer:  google.com [secure search]\\n\\n Searches\\n\\n google.com [secure search]\\n\\n Searches\\n\\nGoals:  Main Register Step 1\\n\\nSep 10 2019\\n\\n10:28:14 am\\n\\n /\\n\\nData-Driven Digital Transformation Research Reports - Trasers\\n\\nSep 10 2019\\n\\n10:28:34 am\\n\\n /register\\n\\nRegister | Trasers\\n\\nSep 10 2019\\n\\n10:28:44 am\\n\\n /syndicated-reports\\n\\nSyndicated Reports for Enterprise Strategy and Specific Topics\\n\\nSep 10 2019\\n\\n10:29:10 am\\n\\n /digital-transformation-research-for-marketing-leaders-in-the-hi-tech-industry\\n\\nDigital Transformation Research for Marketing Leaders in the Hi-Tech Industry | Trasers\\n\\nSep 10 2019\\n\\n10:29:26 am\\n\\n /reg-thanks\\n\\nThank you! Your Trasers account has been created. | Trasers\\n\\nSep 10 2019\\n\\n10:29:44 am\\n\\n /user/reset/10556/1568136558/QHg99If_6-qXqxE9kuGxsS2UDxnMA4E5uwZipVm1VLY?destination\\n\\nReset password | Trasers\\n\\nSep 10 2019\\n\\n10:30:31 am\\n\\n /report/marketing-compass-guide-for-hi-tech\\n\\nMarketing Compass Guide for Hi-Tech | Trasers\\n\\nSep 10 2019\\n\\n10:30:35 am\\n\\n  trasers.com/report/marketing-compass-guide-for-hi-tech0.9729193597494301\\n\\n{\"Email\":\"adunton@shiftcomm.com\",\"Event\":\"Preview Report\"}\\n\\nSep 10 2019\\n\\n10:30:38 am\\n\\n  trasers.com/report/marketing-compass-guide-for-hi-tech0.17756834996273163\\n\\n{\"Email\":\"adunton@shiftcomm.com\",\"Event\":\"Right-flip\",\"slide\":1}\\n\\nSep 10 2019\\n\\n10:30:40 am\\n\\n  trasers.com/report/marketing-compass-guide-for-hi-tech/0.0832859451193746\\n\\n{\"Email\":\"adunton@shiftcomm.com\",\"Event\":\"Right-flip\",\"slide\":2}\\n\\nhttps://clicky.com/stats/visitors?site_id=101124265&date=2019-09-10&uid=1553879305\\nhttps://clicky.com/stats/visitors?site_id=101124265&date=2019-09-10&ip_address=199.76.88.0\\nhttp://whois.arin.net/ui/query.do?q=199.76.88.0\\nhttp://www.ripe.net/fcgi-bin/whois?searchtext=199.76.88.0\\nhttps://clicky.com/stats/visitors?site_id=101124265&date=2019-09-10&country=The+United+States\\nhttps://clicky.com/stats/visitors?site_id=101124265&date=2019-09-10&language=English\\nhttp://google.com/search?q=Level+3+Communications\\nhttps://clicky.com/stats/visitors?site_id=101124265&date=2019-09-10&org=Level+3+Communications\\nhttps://clicky.com/stats/visitors?site_id=101124265&date=2019-09-10&browser=Google+Chrome+76.0\\nhttps://clicky.com/stats/visitors?site_id=101124265&date=2019-09-10&os=Windows+10\\nhttps://clicky.com/stats/visitors?site_id=101124265&date=2019-09-10&resolution=1920x1080\\nhttps://clicky.com/stats/visitors-actions?site_id=101124265&session_id=1785255420\\nhttps://www.google.com/maps?q=32.7787,-96.8217&ll=32.7787,-96.8217&z=10\\nhttps://clicky.com/stats/visitors-actions?site_id=101124265&date=2019-09-10&session_id=1777776047\\nhttp://www.trasers.com/\\nhttps://clicky.com/stats/visitors?site_id=101124265&date=2019-09-10&landing=%2F\\nhttp://www.trasers.com/\\nhttps://clicky.com/stats/visitors?site_id=101124265&date=2019-09-10&landing=%2F\\nhttp://google.com/search?q=%5Bsecure+search%5D\\nhttps://clicky.com/stats/visitors?site_id=101124265&date=2019-09-10&domain=google.com\\nhttps://clicky.com/stats/visitors?site_id=101124265&date=2019-09-10&search=[secure%20search]\\nhttps://clicky.com/stats/visitors?site_id=101124265&date=2019-09-10&source=Searches\\nhttp://google.com/search?q=%5Bsecure+search%5D\\nhttps://clicky.com/stats/visitors?site_id=101124265&date=2019-09-10&domain=google.com\\nhttps://clicky.com/stats/visitors?site_id=101124265&date=2019-09-10&search=[secure%20search]\\nhttps://clicky.com/stats/visitors?site_id=101124265&date=2019-09-10&source=Searches\\nhttps://clicky.com/stats/visitors?site_id=101124265&date=2019-09-10&goal=Main+Register+Step+1\\nhttp://www.trasers.com/\\nhttps://clicky.com/stats/visitors?site_id=101124265&date=2019-09-10&href=%2F\\nhttp://www.trasers.com/register\\nhttps://clicky.com/stats/visitors?site_id=101124265&date=2019-09-10&href=%2Fregister\\nhttp://www.trasers.com/syndicated-reports\\nhttps://clicky.com/stats/visitors?site_id=101124265&date=2019-09-10&href=%2Fsyndicated-reports\\nhttp://www.trasers.com/digital-transformation-research-for-marketing-leaders-in-the-hi-tech-industry\\nhttps://clicky.com/stats/visitors?site_id=101124265&date=2019-09-10&href=%2Fdigital-transformation-research-for-marketing-leaders-in-the-hi-tech-industry\\nhttp://www.trasers.com/reg-thanks\\nhttps://clicky.com/stats/visitors?site_id=101124265&date=2019-09-10&href=%2Freg-thanks\\nhttp://www.trasers.com/user/reset/10556/1568136558/QHg99If_6-qXqxE9kuGxsS2UDxnMA4E5uwZipVm1VLY?destination\\nhttps://clicky.com/stats/visitors?site_id=101124265&date=2019-09-10&href=%2Fuser%2Freset%2F10556%2F1568136558%2FQHg99If_6-qXqxE9kuGxsS2UDxnMA4E5uwZipVm1VLY%3Fdestination\\nhttp://www.trasers.com/report/marketing-compass-guide-for-hi-tech\\nhttps://clicky.com/stats/visitors?site_id=101124265&date=2019-09-10&href=%2Freport%2Fmarketing-compass-guide-for-hi-tech\\nhttps://trasers.com/report/marketing-compass-guide-for-hi-tech0.9729193597494301\\nhttps://clicky.com/stats/visitors?site_id=101124265&date=2019-09-10&href=https%3A%2F%2Ftrasers.com%2Freport%2Fmarketing-compass-guide-for-hi-tech0.9729193597494301\\nhttps://trasers.com/report/marketing-compass-guide-for-hi-tech0.17756834996273163\\nhttps://clicky.com/stats/visitors?site_id=101124265&date=2019-09-10&href=https%3A%2F%2Ftrasers.com%2Freport%2Fmarketing-compass-guide-for-hi-tech0.17756834996273163\\nhttps://trasers.com/report/marketing-compass-guide-for-hi-tech/0.0832859451193746\\nhttps://clicky.com/stats/visitors?site_id=101124265&date=2019-09-10&href=https%3A%2F%2Ftrasers.com%2Freport%2Fmarketing-compass-guide-for-hi-tech%2F0.0832859451193746\\n\\n\\nwww.trasers.com » Actions - 2019-09-10\\n\\nSep 10 2019\\n\\n10:30:42 am\\n\\n  trasers.com/report/marketing-compass-guide-for-hi-tech/0.059091617978675126\\n\\n{\"Email\":\"adunton@shiftcomm.com\",\"Event\":\"Right-flip\",\"slide\":3}\\n\\nSep 10 2019\\n\\n10:30:48 am\\n\\n  trasers.com/report/marketing-compass-guide-for-hi-tech/0.23415591888681497\\n\\n{\"Email\":\"adunton@shiftcomm.com\",\"Event\":\"Right-flip\",\"slide\":4}\\n\\nSep 10 2019\\n\\n10:30:49 am\\n\\n  trasers.com/report/marketing-compass-guide-for-hi-tech/0.8506753363843957\\n\\n{\"Email\":\"adunton@shiftcomm.com\",\"Event\":\"Right-flip\",\"slide\":5}\\n\\nSep 10 2019\\n\\n10:30:54 am\\n\\n  trasers.com/report/marketing-compass-guide-for-hi-tech/0.5233214364029788\\n\\n{\"Email\":\"adunton@shiftcomm.com\",\"Event\":\"Right-flip\",\"slide\":6}\\n\\nSep 10 2019\\n\\n10:30:56 am\\n\\n  trasers.com/report/marketing-compass-guide-for-hi-tech/0.9574015479125604\\n\\n{\"Email\":\"adunton@shiftcomm.com\",\"Event\":\"Right-flip\",\"slide\":7}\\n\\nSep 10 2019\\n\\n10:30:58 am\\n\\n  trasers.com/report/marketing-compass-guide-for-hi-tech/0.9869114142535174\\n\\n{\"Email\":\"adunton@shiftcomm.com\",\"Event\":\"Right-flip\",\"slide\":8}\\n\\nSep 10 2019\\n\\n10:31:05 am\\n\\n  trasers.com/report/marketing-compass-guide-for-hi-tech/0.9720438643299256\\n\\n{\"Email\":\"adunton@shiftcomm.com\",\"Event\":\"Right-flip\",\"slide\":9}\\n\\nSep 10 2019\\n\\n10:31:08 am\\n\\n  trasers.com/report/marketing-compass-guide-for-hi-tech/0.268777989585808\\n\\n{\"Email\":\"adunton@shiftcomm.com\",\"Event\":\"Right-flip\",\"slide\":10}\\n\\nSep 10 2019\\n\\n10:31:10 am\\n\\n  trasers.com/report/marketing-compass-guide-for-hi-tech/0.8713601829385791\\n\\n{\"Email\":\"adunton@shiftcomm.com\",\"Event\":\"Right-flip\",\"slide\":11}\\n\\nSep 10 2019\\n\\n10:31:12 am\\n\\n  trasers.com/report/marketing-compass-guide-for-hi-tech/0.5618884366154528\\n\\n{\"Email\":\"adunton@shiftcomm.com\",\"Event\":\"Right-flip\",\"slide\":12}\\n\\nSep 10 2019\\n\\n10:31:13 am\\n\\n  trasers.com/report/marketing-compass-guide-for-hi-tech/0.24000150696320532\\n\\n{\"Email\":\"adunton@shiftcomm.com\",\"Event\":\"Right-flip\",\"slide\":13}\\n\\nSep 10 2019\\n\\n10:31:15 am\\n\\n  trasers.com/report/marketing-compass-guide-for-hi-tech/0.5898882026757482\\n\\n{\"Email\":\"adunton@shiftcomm.com\",\"Event\":\"Right-flip\",\"slide\":14}\\n\\nSep 10 2019\\n\\n10:31:15 am\\n\\n  trasers.com/report/marketing-compass-guide-for-hi-tech/0.10843177748627775\\n\\n{\"Email\":\"adunton@shiftcomm.com\",\"Event\":\"Right-flip\",\"slide\":15}\\n\\nSep 10 2019\\n\\n10:31:19 am\\n\\n  trasers.com/report/marketing-compass-guide-for-hi-tech/0.20944311603650512\\n\\n{\"Email\":\"adunton@shiftcomm.com\",\"Event\":\"Right-flip\",\"slide\":16}\\n\\nSep 10 2019\\n\\n10:31:20 am\\n\\n  trasers.com/report/marketing-compass-guide-for-hi-tech/0.26903118306163787\\n\\n{\"Email\":\"adunton@shiftcomm.com\",\"Event\":\"Right-flip\",\"slide\":17}\\n\\nSep 10 2019\\n\\n10:31:21 am\\n\\n  trasers.com/report/marketing-compass-guide-for-hi-tech/0.770226078189028\\n\\n{\"Email\":\"adunton@shiftcomm.com\",\"Event\":\"Right-flip\",\"slide\":18}\\n\\nSep 10 2019\\n\\n10:31:22 am\\n\\n  trasers.com/report/marketing-compass-guide-for-hi-tech/0.6087587508950378\\n\\n{\"Email\":\"adunton@shiftcomm.com\",\"Event\":\"Right-flip\",\"slide\":19}\\n\\nSep 10 2019\\n\\n10:31:33 am\\n\\n  trasers.com/report/marketing-compass-guide-for-hi-tech/0.43008986788013615\\n\\n{\"Email\":\"adunton@shiftcomm.com\",\"Event\":\"Right-flip\",\"slide\":20}\\n\\nSep 10 2019   trasers.com/report/marketing-compass-guide-for-hi-tech/0.12105598129027251\\n\\nhttps://trasers.com/report/marketing-compass-guide-for-hi-tech/0.059091617978675126\\nhttps://clicky.com/stats/visitors?site_id=101124265&date=2019-09-10&href=https%3A%2F%2Ftrasers.com%2Freport%2Fmarketing-compass-guide-for-hi-tech%2F0.059091617978675126\\nhttps://trasers.com/report/marketing-compass-guide-for-hi-tech/0.23415591888681497\\nhttps://clicky.com/stats/visitors?site_id=101124265&date=2019-09-10&href=https%3A%2F%2Ftrasers.com%2Freport%2Fmarketing-compass-guide-for-hi-tech%2F0.23415591888681497\\nhttps://trasers.com/report/marketing-compass-guide-for-hi-tech/0.8506753363843957\\nhttps://clicky.com/stats/visitors?site_id=101124265&date=2019-09-10&href=https%3A%2F%2Ftrasers.com%2Freport%2Fmarketing-compass-guide-for-hi-tech%2F0.8506753363843957\\nhttps://trasers.com/report/marketing-compass-guide-for-hi-tech/0.5233214364029788\\nhttps://clicky.com/stats/visitors?site_id=101124265&date=2019-09-10&href=https%3A%2F%2Ftrasers.com%2Freport%2Fmarketing-compass-guide-for-hi-tech%2F0.5233214364029788\\nhttps://trasers.com/report/marketing-compass-guide-for-hi-tech/0.9574015479125604\\nhttps://clicky.com/stats/visitors?site_id=101124265&date=2019-09-10&href=https%3A%2F%2Ftrasers.com%2Freport%2Fmarketing-compass-guide-for-hi-tech%2F0.9574015479125604\\nhttps://trasers.com/report/marketing-compass-guide-for-hi-tech/0.9869114142535174\\nhttps://clicky.com/stats/visitors?site_id=101124265&date=2019-09-10&href=https%3A%2F%2Ftrasers.com%2Freport%2Fmarketing-compass-guide-for-hi-tech%2F0.9869114142535174\\nhttps://trasers.com/report/marketing-compass-guide-for-hi-tech/0.9720438643299256\\nhttps://clicky.com/stats/visitors?site_id=101124265&date=2019-09-10&href=https%3A%2F%2Ftrasers.com%2Freport%2Fmarketing-compass-guide-for-hi-tech%2F0.9720438643299256\\nhttps://trasers.com/report/marketing-compass-guide-for-hi-tech/0.268777989585808\\nhttps://clicky.com/stats/visitors?site_id=101124265&date=2019-09-10&href=https%3A%2F%2Ftrasers.com%2Freport%2Fmarketing-compass-guide-for-hi-tech%2F0.268777989585808\\nhttps://trasers.com/report/marketing-compass-guide-for-hi-tech/0.8713601829385791\\nhttps://clicky.com/stats/visitors?site_id=101124265&date=2019-09-10&href=https%3A%2F%2Ftrasers.com%2Freport%2Fmarketing-compass-guide-for-hi-tech%2F0.8713601829385791\\nhttps://trasers.com/report/marketing-compass-guide-for-hi-tech/0.5618884366154528\\nhttps://clicky.com/stats/visitors?site_id=101124265&date=2019-09-10&href=https%3A%2F%2Ftrasers.com%2Freport%2Fmarketing-compass-guide-for-hi-tech%2F0.5618884366154528\\nhttps://trasers.com/report/marketing-compass-guide-for-hi-tech/0.24000150696320532\\nhttps://clicky.com/stats/visitors?site_id=101124265&date=2019-09-10&href=https%3A%2F%2Ftrasers.com%2Freport%2Fmarketing-compass-guide-for-hi-tech%2F0.24000150696320532\\nhttps://trasers.com/report/marketing-compass-guide-for-hi-tech/0.5898882026757482\\nhttps://clicky.com/stats/visitors?site_id=101124265&date=2019-09-10&href=https%3A%2F%2Ftrasers.com%2Freport%2Fmarketing-compass-guide-for-hi-tech%2F0.5898882026757482\\nhttps://trasers.com/report/marketing-compass-guide-for-hi-tech/0.10843177748627775\\nhttps://clicky.com/stats/visitors?site_id=101124265&date=2019-09-10&href=https%3A%2F%2Ftrasers.com%2Freport%2Fmarketing-compass-guide-for-hi-tech%2F0.10843177748627775\\nhttps://trasers.com/report/marketing-compass-guide-for-hi-tech/0.20944311603650512\\nhttps://clicky.com/stats/visitors?site_id=101124265&date=2019-09-10&href=https%3A%2F%2Ftrasers.com%2Freport%2Fmarketing-compass-guide-for-hi-tech%2F0.20944311603650512\\nhttps://trasers.com/report/marketing-compass-guide-for-hi-tech/0.26903118306163787\\nhttps://clicky.com/stats/visitors?site_id=101124265&date=2019-09-10&href=https%3A%2F%2Ftrasers.com%2Freport%2Fmarketing-compass-guide-for-hi-tech%2F0.26903118306163787\\nhttps://trasers.com/report/marketing-compass-guide-for-hi-tech/0.770226078189028\\nhttps://clicky.com/stats/visitors?site_id=101124265&date=2019-09-10&href=https%3A%2F%2Ftrasers.com%2Freport%2Fmarketing-compass-guide-for-hi-tech%2F0.770226078189028\\nhttps://trasers.com/report/marketing-compass-guide-for-hi-tech/0.6087587508950378\\nhttps://clicky.com/stats/visitors?site_id=101124265&date=2019-09-10&href=https%3A%2F%2Ftrasers.com%2Freport%2Fmarketing-compass-guide-for-hi-tech%2F0.6087587508950378\\nhttps://trasers.com/report/marketing-compass-guide-for-hi-tech/0.43008986788013615\\nhttps://clicky.com/stats/visitors?site_id=101124265&date=2019-09-10&href=https%3A%2F%2Ftrasers.com%2Freport%2Fmarketing-compass-guide-for-hi-tech%2F0.43008986788013615\\nhttps://trasers.com/report/marketing-compass-guide-for-hi-tech/0.12105598129027251\\nhttps://clicky.com/stats/visitors?site_id=101124265&date=2019-09-10&href=https%3A%2F%2Ftrasers.com%2Freport%2Fmarketing-compass-guide-for-hi-tech%2F0.12105598129027251\\n\\n\\nwww.trasers.com » Actions - 2019-09-10\\n\\n10:31:38 am {\"Email\":\"adunton@shiftcomm.com\",\"Event\":\"Trasers1 Close Report\"}\\n\\n\\n'"
      ]
     },
     "execution_count": 263,
     "metadata": {},
     "output_type": "execute_result"
    }
   ],
   "source": [
    "from tika import parser\n",
    "\n",
    "file = 'Data/www.trasers.com » Actions - 2019-09-10.pdf'\n",
    "# Parse data from file\n",
    "file_data = parser.from_file(file)\n",
    "# Get files text content\n",
    "text=file_data['content']\n",
    "text"
   ]
  },
  {
   "cell_type": "code",
   "execution_count": 266,
   "metadata": {},
   "outputs": [],
   "source": [
    "## Function for cleaning text\n",
    "def clean_text(rgx_list, text):\n",
    "    new_text = text\n",
    "    matches = []\n",
    "    for rgx_match in rgx_list:\n",
    "        found_matches = re.findall(rgx_match,new_text)\n",
    "        matches.append(found_matches)\n",
    "        new_text = re.sub(rgx_match, '', new_text)\n",
    "    #print(\"No of matches Deleted :\",len(matches))\n",
    "    return (new_text)"
   ]
  },
  {
   "cell_type": "code",
   "execution_count": 267,
   "metadata": {},
   "outputs": [
    {
     "data": {
      "text/plain": [
       "str"
      ]
     },
     "execution_count": 267,
     "metadata": {},
     "output_type": "execute_result"
    }
   ],
   "source": [
    "type(text)"
   ]
  },
  {
   "cell_type": "code",
   "execution_count": 268,
   "metadata": {},
   "outputs": [],
   "source": [
    "urls = [re.compile(r'(https://.*)'),re.compile(r'(http://.*)'),re.compile(r'(\\t[A-Za-z]*\\s[a-z].*)')]\n",
    "text = clean_text(urls,text)"
   ]
  },
  {
   "cell_type": "code",
   "execution_count": 133,
   "metadata": {},
   "outputs": [
    {
     "data": {
      "text/plain": [
       "['www.trasers.com » Actions - 2019-09-10',\n",
       " 'Visitor detail',\n",
       " 'Visits: 4',\n",
       " 'Unique ID: 1553879305',\n",
       " 'IP address: 199.76.88.0 - ARIN  RIPE ',\n",
       " 'Locale:  USA / English',\n",
       " 'Organization:  Level 3 Communications',\n",
       " 'Platform:  Google Chrome 76.0 \\xa0  Windows 10 \\xa0',\n",
       " '1920x1080 \\xa0',\n",
       " 'All time goals:  Main Register Step 1 (Sep 10 2019)',\n",
       " ' This visit  First visit',\n",
       " 'Date: Tue Sep 10 2019, 10:28am Wed Sep 4 2019, 4:03pm (5d 18h)',\n",
       " 'Session: 3m 24s, 29 actions 19m 56s, 8 actions',\n",
       " 'Landing page:  /  /',\n",
       " 'Referrer:  google.com [secure search]',\n",
       " ' Searches',\n",
       " ' google.com [secure search]',\n",
       " ' Searches',\n",
       " 'Goals:  Main Register Step 1',\n",
       " 'Sep 10 2019',\n",
       " '10:28:14 am',\n",
       " ' /',\n",
       " 'Data-Driven Digital Transformation Research Reports - Trasers',\n",
       " 'Sep 10 2019',\n",
       " '10:28:34 am',\n",
       " ' /register',\n",
       " 'Register | Trasers',\n",
       " 'Sep 10 2019',\n",
       " '10:28:44 am',\n",
       " ' /syndicated-reports',\n",
       " 'Syndicated Reports for Enterprise Strategy and Specific Topics',\n",
       " 'Sep 10 2019',\n",
       " '10:29:10 am',\n",
       " ' /digital-transformation-research-for-marketing-leaders-in-the-hi-tech-industry',\n",
       " 'Digital Transformation Research for Marketing Leaders in the Hi-Tech Industry | Trasers',\n",
       " 'Sep 10 2019',\n",
       " '10:29:26 am',\n",
       " ' /reg-thanks',\n",
       " 'Thank you! Your Trasers account has been created. | Trasers',\n",
       " 'Sep 10 2019',\n",
       " '10:29:44 am',\n",
       " ' /user/reset/10556/1568136558/QHg99If_6-qXqxE9kuGxsS2UDxnMA4E5uwZipVm1VLY?destination',\n",
       " 'Reset password | Trasers',\n",
       " 'Sep 10 2019',\n",
       " '10:30:31 am',\n",
       " ' /report/marketing-compass-guide-for-hi-tech',\n",
       " 'Marketing Compass Guide for Hi-Tech | Trasers',\n",
       " 'Sep 10 2019',\n",
       " '10:30:35 am',\n",
       " '  trasers.com/report/marketing-compass-guide-for-hi-tech0.9729193597494301',\n",
       " '{\"Email\":\"adunton@shiftcomm.com\",\"Event\":\"Preview Report\"}',\n",
       " 'Sep 10 2019',\n",
       " '10:30:38 am',\n",
       " '  trasers.com/report/marketing-compass-guide-for-hi-tech0.17756834996273163',\n",
       " '{\"Email\":\"adunton@shiftcomm.com\",\"Event\":\"Right-flip\",\"slide\":1}',\n",
       " 'Sep 10 2019',\n",
       " '10:30:40 am',\n",
       " '  trasers.com/report/marketing-compass-guide-for-hi-tech/0.0832859451193746',\n",
       " '{\"Email\":\"adunton@shiftcomm.com\",\"Event\":\"Right-flip\",\"slide\":2}',\n",
       " 'www.trasers.com » Actions - 2019-09-10',\n",
       " 'Sep 10 2019',\n",
       " '10:30:42 am',\n",
       " '  trasers.com/report/marketing-compass-guide-for-hi-tech/0.059091617978675126',\n",
       " '{\"Email\":\"adunton@shiftcomm.com\",\"Event\":\"Right-flip\",\"slide\":3}',\n",
       " 'Sep 10 2019',\n",
       " '10:30:48 am',\n",
       " '  trasers.com/report/marketing-compass-guide-for-hi-tech/0.23415591888681497',\n",
       " '{\"Email\":\"adunton@shiftcomm.com\",\"Event\":\"Right-flip\",\"slide\":4}',\n",
       " 'Sep 10 2019',\n",
       " '10:30:49 am',\n",
       " '  trasers.com/report/marketing-compass-guide-for-hi-tech/0.8506753363843957',\n",
       " '{\"Email\":\"adunton@shiftcomm.com\",\"Event\":\"Right-flip\",\"slide\":5}',\n",
       " 'Sep 10 2019',\n",
       " '10:30:54 am',\n",
       " '  trasers.com/report/marketing-compass-guide-for-hi-tech/0.5233214364029788',\n",
       " '{\"Email\":\"adunton@shiftcomm.com\",\"Event\":\"Right-flip\",\"slide\":6}',\n",
       " 'Sep 10 2019',\n",
       " '10:30:56 am',\n",
       " '  trasers.com/report/marketing-compass-guide-for-hi-tech/0.9574015479125604',\n",
       " '{\"Email\":\"adunton@shiftcomm.com\",\"Event\":\"Right-flip\",\"slide\":7}',\n",
       " 'Sep 10 2019',\n",
       " '10:30:58 am',\n",
       " '  trasers.com/report/marketing-compass-guide-for-hi-tech/0.9869114142535174',\n",
       " '{\"Email\":\"adunton@shiftcomm.com\",\"Event\":\"Right-flip\",\"slide\":8}',\n",
       " 'Sep 10 2019',\n",
       " '10:31:05 am',\n",
       " '  trasers.com/report/marketing-compass-guide-for-hi-tech/0.9720438643299256',\n",
       " '{\"Email\":\"adunton@shiftcomm.com\",\"Event\":\"Right-flip\",\"slide\":9}',\n",
       " 'Sep 10 2019',\n",
       " '10:31:08 am',\n",
       " '  trasers.com/report/marketing-compass-guide-for-hi-tech/0.268777989585808',\n",
       " '{\"Email\":\"adunton@shiftcomm.com\",\"Event\":\"Right-flip\",\"slide\":10}',\n",
       " 'Sep 10 2019',\n",
       " '10:31:10 am',\n",
       " '  trasers.com/report/marketing-compass-guide-for-hi-tech/0.8713601829385791',\n",
       " '{\"Email\":\"adunton@shiftcomm.com\",\"Event\":\"Right-flip\",\"slide\":11}',\n",
       " 'Sep 10 2019',\n",
       " '10:31:12 am',\n",
       " '  trasers.com/report/marketing-compass-guide-for-hi-tech/0.5618884366154528',\n",
       " '{\"Email\":\"adunton@shiftcomm.com\",\"Event\":\"Right-flip\",\"slide\":12}',\n",
       " 'Sep 10 2019',\n",
       " '10:31:13 am',\n",
       " '  trasers.com/report/marketing-compass-guide-for-hi-tech/0.24000150696320532',\n",
       " '{\"Email\":\"adunton@shiftcomm.com\",\"Event\":\"Right-flip\",\"slide\":13}',\n",
       " 'Sep 10 2019',\n",
       " '10:31:15 am',\n",
       " '  trasers.com/report/marketing-compass-guide-for-hi-tech/0.5898882026757482',\n",
       " '{\"Email\":\"adunton@shiftcomm.com\",\"Event\":\"Right-flip\",\"slide\":14}',\n",
       " 'Sep 10 2019',\n",
       " '10:31:15 am',\n",
       " '  trasers.com/report/marketing-compass-guide-for-hi-tech/0.10843177748627775',\n",
       " '{\"Email\":\"adunton@shiftcomm.com\",\"Event\":\"Right-flip\",\"slide\":15}',\n",
       " 'Sep 10 2019',\n",
       " '10:31:19 am',\n",
       " '  trasers.com/report/marketing-compass-guide-for-hi-tech/0.20944311603650512',\n",
       " '{\"Email\":\"adunton@shiftcomm.com\",\"Event\":\"Right-flip\",\"slide\":16}',\n",
       " 'Sep 10 2019',\n",
       " '10:31:20 am',\n",
       " '  trasers.com/report/marketing-compass-guide-for-hi-tech/0.26903118306163787',\n",
       " '{\"Email\":\"adunton@shiftcomm.com\",\"Event\":\"Right-flip\",\"slide\":17}',\n",
       " 'Sep 10 2019',\n",
       " '10:31:21 am',\n",
       " '  trasers.com/report/marketing-compass-guide-for-hi-tech/0.770226078189028',\n",
       " '{\"Email\":\"adunton@shiftcomm.com\",\"Event\":\"Right-flip\",\"slide\":18}',\n",
       " 'Sep 10 2019',\n",
       " '10:31:22 am',\n",
       " '  trasers.com/report/marketing-compass-guide-for-hi-tech/0.6087587508950378',\n",
       " '{\"Email\":\"adunton@shiftcomm.com\",\"Event\":\"Right-flip\",\"slide\":19}',\n",
       " 'Sep 10 2019',\n",
       " '10:31:33 am',\n",
       " '  trasers.com/report/marketing-compass-guide-for-hi-tech/0.43008986788013615',\n",
       " '{\"Email\":\"adunton@shiftcomm.com\",\"Event\":\"Right-flip\",\"slide\":20}',\n",
       " 'Sep 10 2019   trasers.com/report/marketing-compass-guide-for-hi-tech/0.12105598129027251',\n",
       " 'www.trasers.com » Actions - 2019-09-10',\n",
       " '10:31:38 am {\"Email\":\"adunton@shiftcomm.com\",\"Event\":\"Trasers1 Close Report\"}']"
      ]
     },
     "execution_count": 133,
     "metadata": {},
     "output_type": "execute_result"
    }
   ],
   "source": [
    "#text"
   ]
  },
  {
   "cell_type": "code",
   "execution_count": 472,
   "metadata": {},
   "outputs": [],
   "source": [
    "visits_count = re.findall(r'(?<=Visits\\W\\s)+(.*?)(?=\\n)',text)\n",
    "unique_id = re.findall(r'(?<=Unique ID\\W\\s)+(.*?)(?=\\n)',text)\n",
    "Ip_address = re.findall(r'(?<=IP address\\W\\s)+(.*?)(?=\\s)',text)\n",
    "Locale = re.findall(r'(?<=Locale\\W\\s).(.*?)(?= /)',text)\n",
    "Organization = re.findall(r'(?<=Organization\\W\\s).(.*?)(?=\\n)',text)\n",
    "Platform = re.findall(r'(?<=Platform\\W\\s).(.*?)(?=\\n)',text)\n",
    "All_time_goals = re.findall(r'(?<=All time goals\\W\\s).(.*?)(?=\\n)',text)\n",
    "This_visit_date = re.findall(r'(?<=Date\\W\\s)([\\w{1,4}\\s\\w{1,4}\\s]+\\W\\d+[ap]m)\\s(.*?)(?=\\n)',text)[0][0]\n",
    "First_visit_date = re.findall(r'(?<=Date\\W\\s)([\\w{1,4}\\s\\w{1,4}\\s]+\\W\\d+[ap]m)\\s(.*?)(?=\\n)',text)[0][1]\n",
    "This_visit_Session = re.findall(r'(?<=Session\\W\\s)(\\d+m\\s\\d+s\\W\\s\\d+\\s\\w+)\\s(.*?)(?=\\n)',text)[0][0]\n",
    "First_visit_session = re.findall(r'(?<=Session\\W\\s)(\\d+m\\s\\d+s\\W\\s\\d+\\s\\w+)\\s(.*?)(?=\\n)',text)[0][1]\n",
    "Landing_page = re.findall(r'(?<=Landing page\\W\\s)(.*?)(?=\\n)',text)\n",
    "# Referrer = re.findall(r'(?<=Referrer: ).*?(?=\\n)',text)\n",
    "# Reffer_type =\n",
    "This_visit_Goals = re.findall(r'(?<=Goals\\W\\s).(.*?)(?=\\n)',text)"
   ]
  },
  {
   "cell_type": "code",
   "execution_count": 508,
   "metadata": {},
   "outputs": [],
   "source": [
    "match = re.findall(r'(?<=Landing page\\W\\s)(\\s\\W)\\s{1,3}(.*?)(?=\\n)',text)"
   ]
  },
  {
   "cell_type": "code",
   "execution_count": 516,
   "metadata": {},
   "outputs": [
    {
     "data": {
      "text/plain": [
       "'/'"
      ]
     },
     "execution_count": 516,
     "metadata": {},
     "output_type": "execute_result"
    }
   ],
   "source": [
    "match[0][1]"
   ]
  },
  {
   "cell_type": "code",
   "execution_count": 518,
   "metadata": {},
   "outputs": [
    {
     "data": {
      "text/plain": [
       "[(' /', '/')]"
      ]
     },
     "execution_count": 518,
     "metadata": {},
     "output_type": "execute_result"
    }
   ],
   "source": [
    "re.findall(r'(?<=Landing page\\W\\s)(\\s\\W)\\s{1,3}(.*?)(?=\\n)',text)"
   ]
  },
  {
   "cell_type": "code",
   "execution_count": 192,
   "metadata": {},
   "outputs": [
    {
     "data": {
      "text/html": [
       "<div>\n",
       "<style scoped>\n",
       "    .dataframe tbody tr th:only-of-type {\n",
       "        vertical-align: middle;\n",
       "    }\n",
       "\n",
       "    .dataframe tbody tr th {\n",
       "        vertical-align: top;\n",
       "    }\n",
       "\n",
       "    .dataframe thead th {\n",
       "        text-align: right;\n",
       "    }\n",
       "</style>\n",
       "<table border=\"1\" class=\"dataframe\">\n",
       "  <thead>\n",
       "    <tr style=\"text-align: right;\">\n",
       "      <th></th>\n",
       "      <th>Unique ID</th>\n",
       "      <th>Visits</th>\n",
       "      <th>IP address</th>\n",
       "      <th>Locale</th>\n",
       "      <th>Organization</th>\n",
       "      <th>Platform</th>\n",
       "      <th>All time goals</th>\n",
       "      <th>Date</th>\n",
       "      <th>Session</th>\n",
       "      <th>Landing page</th>\n",
       "      <th>Goals</th>\n",
       "    </tr>\n",
       "  </thead>\n",
       "  <tbody>\n",
       "    <tr>\n",
       "      <td>0</td>\n",
       "      <td>1553879305</td>\n",
       "      <td>4</td>\n",
       "      <td>199.76.88.0</td>\n",
       "      <td>USA</td>\n",
       "      <td>Level 3 Communications</td>\n",
       "      <td>Google Chrome 76.0    Windows 10</td>\n",
       "      <td>Main Register Step 1 (Sep 10 2019)</td>\n",
       "      <td>Tue Sep 10 2019, 10:28am Wed Sep 4 2019, 4:03p...</td>\n",
       "      <td>3m 24s, 29 actions 19m 56s, 8 actions</td>\n",
       "      <td>/  /</td>\n",
       "      <td>Main Register Step 1</td>\n",
       "    </tr>\n",
       "  </tbody>\n",
       "</table>\n",
       "</div>"
      ],
      "text/plain": [
       "    Unique ID Visits   IP address Locale            Organization  \\\n",
       "0  1553879305      4  199.76.88.0    USA  Level 3 Communications   \n",
       "\n",
       "                             Platform                      All time goals  \\\n",
       "0  Google Chrome 76.0    Windows 10    Main Register Step 1 (Sep 10 2019)   \n",
       "\n",
       "                                                Date  \\\n",
       "0  Tue Sep 10 2019, 10:28am Wed Sep 4 2019, 4:03p...   \n",
       "\n",
       "                                 Session Landing page                  Goals  \n",
       "0  3m 24s, 29 actions 19m 56s, 8 actions         /  /   Main Register Step 1  "
      ]
     },
     "execution_count": 192,
     "metadata": {},
     "output_type": "execute_result"
    }
   ],
   "source": [
    "df=pd.DataFrame()\n",
    "df[\"Unique ID\"] = unique_id \n",
    "df[\"Visits\"] = visits_count\n",
    "df[\"IP address\"] = Ip_address\n",
    "df[\"Locale\"] = Locale \n",
    "df[\"Organization\"] = Organization\n",
    "df[\"Platform\"] = Platform\n",
    "df[\"All time goals\"] = All_time_goals\n",
    "df[\"Date\"] = visits_Date\n",
    "df[\"Session\"] = Session\n",
    "df[\"Landing page\"] = Landing_page\n",
    "df[\"Goals\"] = Goals \n",
    "df"
   ]
  }
 ],
 "metadata": {
  "kernelspec": {
   "display_name": "Python 3",
   "language": "python",
   "name": "python3"
  },
  "language_info": {
   "codemirror_mode": {
    "name": "ipython",
    "version": 3
   },
   "file_extension": ".py",
   "mimetype": "text/x-python",
   "name": "python",
   "nbconvert_exporter": "python",
   "pygments_lexer": "ipython3",
   "version": "3.6.8"
  }
 },
 "nbformat": 4,
 "nbformat_minor": 4
}
