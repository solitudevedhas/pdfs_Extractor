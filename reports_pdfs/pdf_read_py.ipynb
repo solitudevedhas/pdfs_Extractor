{
 "cells": [
  {
   "cell_type": "code",
   "execution_count": 1,
   "metadata": {},
   "outputs": [],
   "source": [
    "## import packages\n",
    "\n",
    "from tabula import read_pdf\n",
    "from tabulate import tabulate\n",
    "import pandas as pd\n",
    "import numpy"
   ]
  },
  {
   "cell_type": "code",
   "execution_count": 2,
   "metadata": {},
   "outputs": [],
   "source": [
    "# read pdf Contents \n",
    "pdf_contents = read_pdf(\"Report_1600821.pdf\", pages=\"all\", multiple_tables=True)"
   ]
  },
  {
   "cell_type": "code",
   "execution_count": 3,
   "metadata": {},
   "outputs": [
    {
     "data": {
      "text/html": [
       "<div>\n",
       "<style scoped>\n",
       "    .dataframe tbody tr th:only-of-type {\n",
       "        vertical-align: middle;\n",
       "    }\n",
       "\n",
       "    .dataframe tbody tr th {\n",
       "        vertical-align: top;\n",
       "    }\n",
       "\n",
       "    .dataframe thead th {\n",
       "        text-align: right;\n",
       "    }\n",
       "</style>\n",
       "<table border=\"1\" class=\"dataframe\">\n",
       "  <thead>\n",
       "    <tr style=\"text-align: right;\">\n",
       "      <th></th>\n",
       "      <th>0</th>\n",
       "      <th>1</th>\n",
       "      <th>2</th>\n",
       "      <th>3</th>\n",
       "    </tr>\n",
       "  </thead>\n",
       "  <tbody>\n",
       "    <tr>\n",
       "      <th>0</th>\n",
       "      <td>NaN</td>\n",
       "      <td>NaN</td>\n",
       "      <td>Suppliers Imported</td>\n",
       "      <td>NaN</td>\n",
       "    </tr>\n",
       "    <tr>\n",
       "      <th>1</th>\n",
       "      <td>Import Action</td>\n",
       "      <td>Supplier</td>\n",
       "      <td>NaN</td>\n",
       "      <td>Supplier Number</td>\n",
       "    </tr>\n",
       "    <tr>\n",
       "      <th>2</th>\n",
       "      <td>UPDATE</td>\n",
       "      <td>Mark W LaChey dba Law Office of Mark W LaChey-...</td>\n",
       "      <td>NaN</td>\n",
       "      <td>ab:87961</td>\n",
       "    </tr>\n",
       "    <tr>\n",
       "      <th>3</th>\n",
       "      <td>Total Suppliers Imported</td>\n",
       "      <td>1</td>\n",
       "      <td>NaN</td>\n",
       "      <td>NaN</td>\n",
       "    </tr>\n",
       "  </tbody>\n",
       "</table>\n",
       "</div>"
      ],
      "text/plain": [
       "                          0  \\\n",
       "0                       NaN   \n",
       "1             Import Action   \n",
       "2                    UPDATE   \n",
       "3  Total Suppliers Imported   \n",
       "\n",
       "                                                   1                   2  \\\n",
       "0                                                NaN  Suppliers Imported   \n",
       "1                                           Supplier                 NaN   \n",
       "2  Mark W LaChey dba Law Office of Mark W LaChey-...                 NaN   \n",
       "3                                                  1                 NaN   \n",
       "\n",
       "                 3  \n",
       "0              NaN  \n",
       "1  Supplier Number  \n",
       "2         ab:87961  \n",
       "3              NaN  "
      ]
     },
     "execution_count": 3,
     "metadata": {},
     "output_type": "execute_result"
    }
   ],
   "source": [
    "## Drop  1st and last page in pdf contents \n",
    "pdf_content = pdf_contents\n",
    "pdf_content.pop(0)\n",
    "pdf_content.pop(60)"
   ]
  },
  {
   "cell_type": "code",
   "execution_count": 4,
   "metadata": {},
   "outputs": [],
   "source": [
    "# storing all data to new pandas DataFrame\n",
    "report_df = pd.DataFrame()\n",
    "for i in range(len(pdf_content)):\n",
    "    page = pdf_content[i]\n",
    "    page = page.drop(page.index[:2]) ## Drop header of each page\n",
    "    page = page.drop([1,3,5], axis=1) ## unnessary column of each page\n",
    "    report_df = pd.concat([report_df, page]).replace(r'\\r',' ', regex=True) ## removing white space\n",
    "    \n",
    "##########   \n",
    "report_df = report_df.reset_index(level=None, drop=True) # reset index values"
   ]
  },
  {
   "cell_type": "code",
   "execution_count": 5,
   "metadata": {},
   "outputs": [],
   "source": [
    "## giving header name \n",
    "report_df = report_df.rename(columns={0:'Interface ID',2 : 'Supplier', 4 : 'Rejection Reason' , 6 : 'Value'})"
   ]
  },
  {
   "cell_type": "code",
   "execution_count": 6,
   "metadata": {},
   "outputs": [],
   "source": [
    "# Index identifier for nan values\n",
    "nan_index=[]\n",
    "for i,a in zip(report_df.index.values,report_df[\"Interface ID\"].isnull()):\n",
    "    if a == True:\n",
    "        nan_index.append(i) "
   ]
  },
  {
   "cell_type": "code",
   "execution_count": 7,
   "metadata": {},
   "outputs": [],
   "source": [
    "## concate column values splited into multiple rows \n",
    "for i in nan_index:\n",
    "    report_df[\"Supplier\"][i-1] = report_df[\"Supplier\"][i-1]+' '+report_df[\"Supplier\"][i]\n",
    "    if type(report_df[\"Value\"][i])==float:\n",
    "        report_df[\"Value\"][i] = \"\"\n",
    "    report_df[\"Value\"][i-1] = report_df[\"Value\"][i-1]+' '+report_df[\"Value\"][i]\n",
    "    "
   ]
  },
  {
   "cell_type": "code",
   "execution_count": 8,
   "metadata": {},
   "outputs": [],
   "source": [
    "## reset index values\n",
    "report_df = report_df.dropna().reset_index(level=None, drop=True)"
   ]
  },
  {
   "cell_type": "code",
   "execution_count": 10,
   "metadata": {},
   "outputs": [],
   "source": [
    "# storing Data to csv File \n",
    "report_df.to_csv(\"Report_1600821_py.csv\",index = False)"
   ]
  },
  {
   "cell_type": "code",
   "execution_count": null,
   "metadata": {},
   "outputs": [],
   "source": []
  }
 ],
 "metadata": {
  "kernelspec": {
   "display_name": "Python 3",
   "language": "python",
   "name": "python3"
  },
  "language_info": {
   "codemirror_mode": {
    "name": "ipython",
    "version": 3
   },
   "file_extension": ".py",
   "mimetype": "text/x-python",
   "name": "python",
   "nbconvert_exporter": "python",
   "pygments_lexer": "ipython3",
   "version": "3.7.4"
  }
 },
 "nbformat": 4,
 "nbformat_minor": 4
}
