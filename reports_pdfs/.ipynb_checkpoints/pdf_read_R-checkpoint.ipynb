{
 "cells": [
  {
   "cell_type": "code",
   "execution_count": 1,
   "metadata": {},
   "outputs": [
    {
     "name": "stderr",
     "output_type": "stream",
     "text": [
      "-- \u001b[1mAttaching packages\u001b[22m --------------------------------------- tidyverse 1.2.1 --\n",
      "\u001b[32mv\u001b[39m \u001b[34mggplot2\u001b[39m 3.2.1     \u001b[32mv\u001b[39m \u001b[34mpurrr  \u001b[39m 0.3.2\n",
      "\u001b[32mv\u001b[39m \u001b[34mtibble \u001b[39m 2.1.3     \u001b[32mv\u001b[39m \u001b[34mdplyr  \u001b[39m 0.8.3\n",
      "\u001b[32mv\u001b[39m \u001b[34mtidyr  \u001b[39m 0.8.3     \u001b[32mv\u001b[39m \u001b[34mstringr\u001b[39m 1.4.0\n",
      "\u001b[32mv\u001b[39m \u001b[34mreadr  \u001b[39m 1.3.1     \u001b[32mv\u001b[39m \u001b[34mforcats\u001b[39m 0.4.0\n",
      "-- \u001b[1mConflicts\u001b[22m ------------------------------------------ tidyverse_conflicts() --\n",
      "\u001b[31mx\u001b[39m \u001b[34mdplyr\u001b[39m::\u001b[32mfilter()\u001b[39m masks \u001b[34mstats\u001b[39m::filter()\n",
      "\u001b[31mx\u001b[39m \u001b[34mdplyr\u001b[39m::\u001b[32mlag()\u001b[39m    masks \u001b[34mstats\u001b[39m::lag()\n"
     ]
    }
   ],
   "source": [
    "# Import Required Libraries\n",
    "library(rJava)\n",
    "library(tabulizer)\n",
    "library(tabulizerjars)\n",
    "library(tidyverse)"
   ]
  },
  {
   "cell_type": "code",
   "execution_count": 2,
   "metadata": {},
   "outputs": [],
   "source": [
    "# Read Pdf\n",
    "pdf_contents <- extract_tables(\"Report_1600821.pdf\")"
   ]
  },
  {
   "cell_type": "code",
   "execution_count": 3,
   "metadata": {},
   "outputs": [],
   "source": [
    "## Drop unnessary Pages\n",
    "pdf_contents <- pdf_contents[-1] ## drop 1 st page\n",
    "pdf_contents <- pdf_contents[-length(pdf_contents)] ## drop last page"
   ]
  },
  {
   "cell_type": "code",
   "execution_count": 4,
   "metadata": {},
   "outputs": [],
   "source": [
    "# Creating A sigle data frame by append Data from each page called pdf_contents_DF\n",
    "pdf_contents_DF  <-  data.frame() # blanck Data Frame\n",
    "for (i in pdf_contents) {\n",
    "    page_df <- i %>% data.frame \n",
    "    page_df <- page_df[-c(1,2),] # drop headers \n",
    "    drops <- c(\"X2\",\"X4\",\"X6\")   # columns names to be Drop\n",
    "    page_df <- page_df[ , !(names(page_df) %in% drops)] # drop unnessary Columns\n",
    "    pdf_contents_DF <- rbind(pdf_contents_DF,page_df)\n",
    "}"
   ]
  },
  {
   "cell_type": "code",
   "execution_count": 5,
   "metadata": {},
   "outputs": [],
   "source": [
    "# columns names from Data frame\n",
    "colnames(pdf_contents_DF) <- c(\"Interface ID\",\"Supplier\", \"Rejection Reason\" , \"Value\") "
   ]
  },
  {
   "cell_type": "code",
   "execution_count": 6,
   "metadata": {},
   "outputs": [],
   "source": [
    "## remove white space  from Column name Supplier and Value\n",
    "pdf_contents_DF$Supplier = gsub(replacement = ' ',pattern = '\\r',x = pdf_contents_DF$Supplier) \n",
    "pdf_contents_DF$Value = gsub(replacement = ' ',pattern = '\\r',x = pdf_contents_DF$Value)"
   ]
  },
  {
   "cell_type": "code",
   "execution_count": 7,
   "metadata": {},
   "outputs": [],
   "source": [
    "# Index of Nun values\n",
    "nan_index=which(pdf_contents_DF$`Interface ID`==\"\")"
   ]
  },
  {
   "cell_type": "code",
   "execution_count": 8,
   "metadata": {},
   "outputs": [],
   "source": [
    "#  join blank valus with their previes Index\n",
    "for( i in nan_index){\n",
    "    pdf_contents_DF[i-1,2] <- paste(cbind(pdf_contents_DF[i-1,2],pdf_contents_DF[i,2]), collapse=\" \")\n",
    "    pdf_contents_DF[i-1,4] <- paste(cbind(pdf_contents_DF[i-1,4],pdf_contents_DF[i,4]), collapse=\" \")\n",
    "}"
   ]
  },
  {
   "cell_type": "code",
   "execution_count": 9,
   "metadata": {},
   "outputs": [],
   "source": [
    "# Drop all rows , Having 'NULL' Interface ID By create A subset and replace it\n",
    "pdf_contents_DF = subset(pdf_contents_DF,`Rejection Reason`!=\"\")"
   ]
  },
  {
   "cell_type": "code",
   "execution_count": 12,
   "metadata": {},
   "outputs": [],
   "source": [
    "## write data to Csv\n",
    "write.csv(pdf_contents_DF,\"Report_1600821_R.csv\", row.names = FALSE)"
   ]
  },
  {
   "cell_type": "code",
   "execution_count": null,
   "metadata": {},
   "outputs": [],
   "source": [
    "Print(\" File Extration Completed \")"
   ]
  }
 ],
 "metadata": {
  "kernelspec": {
   "display_name": "R",
   "language": "R",
   "name": "ir"
  },
  "language_info": {
   "codemirror_mode": "r",
   "file_extension": ".r",
   "mimetype": "text/x-r-source",
   "name": "R",
   "pygments_lexer": "r",
   "version": "3.6.1"
  }
 },
 "nbformat": 4,
 "nbformat_minor": 4
}
