{
 "cells": [
  {
   "cell_type": "code",
   "execution_count": 1,
   "metadata": {},
   "outputs": [
    {
     "name": "stderr",
     "output_type": "stream",
     "text": [
      "-- \u001b[1mAttaching packages\u001b[22m --------------------------------------- tidyverse 1.2.1 --\n",
      "\u001b[32mv\u001b[39m \u001b[34mggplot2\u001b[39m 3.2.1     \u001b[32mv\u001b[39m \u001b[34mpurrr  \u001b[39m 0.3.2\n",
      "\u001b[32mv\u001b[39m \u001b[34mtibble \u001b[39m 2.1.3     \u001b[32mv\u001b[39m \u001b[34mdplyr  \u001b[39m 0.8.3\n",
      "\u001b[32mv\u001b[39m \u001b[34mtidyr  \u001b[39m 0.8.3     \u001b[32mv\u001b[39m \u001b[34mstringr\u001b[39m 1.4.0\n",
      "\u001b[32mv\u001b[39m \u001b[34mreadr  \u001b[39m 1.3.1     \u001b[32mv\u001b[39m \u001b[34mforcats\u001b[39m 0.4.0\n",
      "-- \u001b[1mConflicts\u001b[22m ------------------------------------------ tidyverse_conflicts() --\n",
      "\u001b[31mx\u001b[39m \u001b[34mdplyr\u001b[39m::\u001b[32mfilter()\u001b[39m masks \u001b[34mstats\u001b[39m::filter()\n",
      "\u001b[31mx\u001b[39m \u001b[34mdplyr\u001b[39m::\u001b[32mlag()\u001b[39m    masks \u001b[34mstats\u001b[39m::lag()\n"
     ]
    }
   ],
   "source": [
    "# Import packages\n",
    "\n",
    "library(rJava)\n",
    "library(tabulizer)\n",
    "library(tabulizerjars)\n",
    "library(tidyverse)"
   ]
  },
  {
   "cell_type": "code",
   "execution_count": 2,
   "metadata": {},
   "outputs": [],
   "source": [
    "pdf_contents <- extract_tables(\"Report_1600821.pdf\")"
   ]
  },
  {
   "cell_type": "code",
   "execution_count": 3,
   "metadata": {},
   "outputs": [],
   "source": [
    "pdf_content  <- pdf_contents[-1] ## drop 1 st page\n",
    "pdf_content <- pdf_content[-length(pdf_content)] ## drop last page"
   ]
  },
  {
   "cell_type": "code",
   "execution_count": 4,
   "metadata": {},
   "outputs": [],
   "source": [
    "new_pdf_content  <-  list()\n",
    "new_pdf_content  <-  data.frame()\n",
    "for (i in pdf_content) {\n",
    "    page_df <- i %>% data.frame\n",
    "    page_df <- page_df[-c(1,2),]\n",
    "    drops <- c(\"X2\",\"X4\",\"X6\")\n",
    "    page_df <- page_df[ , !(names(page_df) %in% drops)]\n",
    "    new_pdf_content <- rbind(new_pdf_content,page_df)\n",
    "}"
   ]
  },
  {
   "cell_type": "code",
   "execution_count": 11,
   "metadata": {},
   "outputs": [],
   "source": [
    "colnames(new_pdf_content) <- c(\"Interface ID\",\"Supplier\", \"Rejection Reason\" , \"Value\")"
   ]
  },
  {
   "cell_type": "code",
   "execution_count": 12,
   "metadata": {},
   "outputs": [],
   "source": [
    "#write.csv(new_pdf_content,'Report_1600821.csv')"
   ]
  },
  {
   "cell_type": "code",
   "execution_count": 66,
   "metadata": {},
   "outputs": [
    {
     "data": {
      "text/html": [
       "<table>\n",
       "<caption>A matrix: 1 × 1 of type lgl</caption>\n",
       "<thead>\n",
       "\t<tr><th></th><th scope=col>Interface ID</th></tr>\n",
       "</thead>\n",
       "<tbody>\n",
       "\t<tr><th scope=row>32</th><td>TRUE</td></tr>\n",
       "</tbody>\n",
       "</table>\n"
      ],
      "text/latex": [
       "A matrix: 1 × 1 of type lgl\n",
       "\\begin{tabular}{r|l}\n",
       "  & Interface ID\\\\\n",
       "\\hline\n",
       "\t32 & TRUE\\\\\n",
       "\\end{tabular}\n"
      ],
      "text/markdown": [
       "\n",
       "A matrix: 1 × 1 of type lgl\n",
       "\n",
       "| <!--/--> | Interface ID |\n",
       "|---|---|\n",
       "| 32 | TRUE |\n",
       "\n"
      ],
      "text/plain": [
       "   Interface ID\n",
       "32 TRUE        "
      ]
     },
     "metadata": {},
     "output_type": "display_data"
    }
   ],
   "source": [
    "new_pdf_content[33,][1] == \"\""
   ]
  },
  {
   "cell_type": "code",
   "execution_count": 68,
   "metadata": {},
   "outputs": [],
   "source": [
    "test_pdf = new_pdf_content"
   ]
  },
  {
   "cell_type": "code",
   "execution_count": 69,
   "metadata": {},
   "outputs": [
    {
     "ename": "ERROR",
     "evalue": "Error in parse(text = x, srcfile = src): <text>:1:34: unexpected ','\n1: for (a in test_df[\"Interface ID\"],\n                                     ^\n",
     "output_type": "error",
     "traceback": [
      "Error in parse(text = x, srcfile = src): <text>:1:34: unexpected ','\n1: for (a in test_df[\"Interface ID\"],\n                                     ^\nTraceback:\n"
     ]
    }
   ],
   "source": [
    "test_df[\"Interface ID\"], test_df[\"Supplier\"], test_df[\"Rejection Reason\"], test_df[\"Value\"]"
   ]
  },
  {
   "cell_type": "code",
   "execution_count": 71,
   "metadata": {},
   "outputs": [
    {
     "ename": "ERROR",
     "evalue": "Error in print(length(test_df[\"Interface ID\"])): object 'test_df' not found\n",
     "output_type": "error",
     "traceback": [
      "Error in print(length(test_df[\"Interface ID\"])): object 'test_df' not found\nTraceback:\n",
      "1. print(length(test_df[\"Interface ID\"]))"
     ]
    }
   ],
   "source": [
    "print(length(test_df[\"Interface ID\"]))"
   ]
  },
  {
   "cell_type": "code",
   "execution_count": null,
   "metadata": {},
   "outputs": [],
   "source": []
  }
 ],
 "metadata": {
  "kernelspec": {
   "display_name": "R",
   "language": "R",
   "name": "ir"
  },
  "language_info": {
   "codemirror_mode": "r",
   "file_extension": ".r",
   "mimetype": "text/x-r-source",
   "name": "R",
   "pygments_lexer": "r",
   "version": "3.6.1"
  }
 },
 "nbformat": 4,
 "nbformat_minor": 4
}
