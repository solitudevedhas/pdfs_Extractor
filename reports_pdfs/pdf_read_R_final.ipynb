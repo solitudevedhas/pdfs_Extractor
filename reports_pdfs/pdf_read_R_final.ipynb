{
 "cells": [
  {
   "cell_type": "code",
   "execution_count": 1,
   "metadata": {},
   "outputs": [
    {
     "name": "stderr",
     "output_type": "stream",
     "text": [
      "── \u001b[1mAttaching packages\u001b[22m ─────────────────────────────────────── tidyverse 1.2.1 ──\n",
      "\u001b[32m✔\u001b[39m \u001b[34mggplot2\u001b[39m 3.2.1     \u001b[32m✔\u001b[39m \u001b[34mpurrr  \u001b[39m 0.3.2\n",
      "\u001b[32m✔\u001b[39m \u001b[34mtibble \u001b[39m 2.1.3     \u001b[32m✔\u001b[39m \u001b[34mdplyr  \u001b[39m 0.8.3\n",
      "\u001b[32m✔\u001b[39m \u001b[34mtidyr  \u001b[39m 1.0.0     \u001b[32m✔\u001b[39m \u001b[34mstringr\u001b[39m 1.4.0\n",
      "\u001b[32m✔\u001b[39m \u001b[34mreadr  \u001b[39m 1.3.1     \u001b[32m✔\u001b[39m \u001b[34mforcats\u001b[39m 0.4.0\n",
      "── \u001b[1mConflicts\u001b[22m ────────────────────────────────────────── tidyverse_conflicts() ──\n",
      "\u001b[31m✖\u001b[39m \u001b[34mdplyr\u001b[39m::\u001b[32mfilter()\u001b[39m masks \u001b[34mstats\u001b[39m::filter()\n",
      "\u001b[31m✖\u001b[39m \u001b[34mdplyr\u001b[39m::\u001b[32mlag()\u001b[39m    masks \u001b[34mstats\u001b[39m::lag()\n"
     ]
    }
   ],
   "source": [
    "# Import packages\n",
    "\n",
    "library(rJava)\n",
    "library(tabulizer)\n",
    "library(tabulizerjars)\n",
    "library(tidyverse)"
   ]
  },
  {
   "cell_type": "code",
   "execution_count": 2,
   "metadata": {},
   "outputs": [],
   "source": [
    "pdf_contents <- extract_tables(\"Report_1600821.pdf\")"
   ]
  },
  {
   "cell_type": "code",
   "execution_count": 3,
   "metadata": {},
   "outputs": [],
   "source": [
    "pdf_content  <- pdf_contents[-1] ## drop 1 st page\n",
    "pdf_content <- pdf_content[-length(pdf_content)] ## drop last page"
   ]
  },
  {
   "cell_type": "code",
   "execution_count": 7,
   "metadata": {},
   "outputs": [],
   "source": [
    "new_pdf_content  <-  list()\n",
    "new_pdf_content  <-  data.frame()\n",
    "for (i in pdf_content) {\n",
    "    page_df <- i %>% data.frame\n",
    "    page_df <- page_df[-c(1,2),]\n",
    "    drops <- c(\"X2\",\"X4\",\"X6\")\n",
    "    page_df <- page_df[ , !(names(page_df) %in% drops)]\n",
    "    new_pdf_content <- rbind(new_pdf_content,page_df)\n",
    "    #new_pdf_content <- new_pdf_content.replace({r'\\\\r': ''}, regex=True)\n",
    "}"
   ]
  },
  {
   "cell_type": "code",
   "execution_count": 8,
   "metadata": {},
   "outputs": [],
   "source": [
    "colnames(new_pdf_content) <- c(\"Interface ID\",\"Supplier\", \"Rejection Reason\" , \"Value\")"
   ]
  },
  {
   "cell_type": "code",
   "execution_count": 14,
   "metadata": {},
   "outputs": [],
   "source": [
    "#write.csv(gsub(\"[\\r\\n]\", \"\", new_pdf_content),'Report_1600.csv')"
   ]
  },
  {
   "cell_type": "code",
   "execution_count": 5,
   "metadata": {},
   "outputs": [
    {
     "ename": "ERROR",
     "evalue": "Error in eval(expr, envir, enclos): object 'new_pdf_content' not found\n",
     "output_type": "error",
     "traceback": [
      "Error in eval(expr, envir, enclos): object 'new_pdf_content' not found\nTraceback:\n"
     ]
    }
   ],
   "source": [
    "new_pdf_content[33,][1] == \"\""
   ]
  },
  {
   "cell_type": "code",
   "execution_count": 68,
   "metadata": {},
   "outputs": [],
   "source": [
    "test_pdf = new_pdf_content"
   ]
  },
  {
   "cell_type": "code",
   "execution_count": 69,
   "metadata": {},
   "outputs": [
    {
     "ename": "ERROR",
     "evalue": "Error in parse(text = x, srcfile = src): <text>:1:34: unexpected ','\n1: for (a in test_df[\"Interface ID\"],\n                                     ^\n",
     "output_type": "error",
     "traceback": [
      "Error in parse(text = x, srcfile = src): <text>:1:34: unexpected ','\n1: for (a in test_df[\"Interface ID\"],\n                                     ^\nTraceback:\n"
     ]
    }
   ],
   "source": [
    "test_df[\"Interface ID\"], test_df[\"Supplier\"], test_df[\"Rejection Reason\"], test_df[\"Value\"]"
   ]
  },
  {
   "cell_type": "code",
   "execution_count": 71,
   "metadata": {},
   "outputs": [
    {
     "ename": "ERROR",
     "evalue": "Error in print(length(test_df[\"Interface ID\"])): object 'test_df' not found\n",
     "output_type": "error",
     "traceback": [
      "Error in print(length(test_df[\"Interface ID\"])): object 'test_df' not found\nTraceback:\n",
      "1. print(length(test_df[\"Interface ID\"]))"
     ]
    }
   ],
   "source": [
    "print(length(test_df[\"Interface ID\"]))"
   ]
  },
  {
   "cell_type": "code",
   "execution_count": null,
   "metadata": {},
   "outputs": [],
   "source": []
  }
 ],
 "metadata": {
  "kernelspec": {
   "display_name": "R",
   "language": "R",
   "name": "ir"
  },
  "language_info": {
   "codemirror_mode": "r",
   "file_extension": ".r",
   "mimetype": "text/x-r-source",
   "name": "R",
   "pygments_lexer": "r",
   "version": "3.6.1"
  }
 },
 "nbformat": 4,
 "nbformat_minor": 4
}
